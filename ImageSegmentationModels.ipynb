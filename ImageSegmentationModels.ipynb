{
 "cells": [
  {
   "cell_type": "markdown",
   "id": "f006c628",
   "metadata": {},
   "source": [
    "## Goal:\n",
    "Compare results on the same dataset for the following 4 models:\n",
    "- YOLOv7\n",
    "- UNet\n",
    "- OneFormer\n",
    "- EVA\n",
    "\n",
    "| Model|Paper|PwC|Documentation|GitHub|Description|\n",
    "|:----:|:---:|:-:|:-----------:|:----:|:---------:|\n",
    "|Oneformer|[Paper](https://arxiv.org/pdf/2211.06220.pdf)|[PwC](https://paperswithcode.com/paper/oneformer-one-transformer-to-rule-universal)|[~Docs](https://praeclarumjj3.github.io/oneformer/)|[Github](https://github.com/SHI-Labs/OneFormer)|Instance segmentation model based on the Transformer architecture.|\n",
    "|YOLOv7|[YOLOv7 Paper](https://arxiv.org/abs/2207.02696)|[YOLOv7 PwC](https://paperswithcode.com/paper/yolov7-trainable-bag-of-freebies-sets-new)|[~Docs](https://blog.roboflow.com/yolov7-breakdown/)|[Github](https://github.com/WongKinYiu/yolov7)|Object detection and instance segmentation model with higher speed and improved accuracy.|\n",
    "|YOLOv5|[YOLOv4 Paper](https://arxiv.org/abs/2004.10934)|[YOLOv4 PwC](https://paperswithcode.com/method/yolov4)|[Docs](https://docs.ultralytics.com/)|[Github](https://github.com/ultralytics/yolov5)|Object detection and instance segmentation model with high speed and accuracy.|\n",
    "|EVA|[Paper](https://arxiv.org/pdf/2211.07636v2.pdf)|[PwC](https://paperswithcode.com/paper/eva-exploring-the-limits-of-masked-visual)|[tmmm Docs](https://github.com/rwightman/pytorch-image-models#getting-started-documentation)|[Github](https://github.com/baaivision/eva)|Instance segmentation model based on the Vision Transformer architecture.|\n",
    "|UNETR|[Paper](https://arxiv.org/abs/2103.10504v3)|[PwC](https://paperswithcode.com/method/unetr)|[MONAI Docs](https://docs.monai.io/en/stable/)|[Github](https://github.com/Project-MONAI/research-contributions/tree/main/UNETR/BTCV)|Instance segmentation model based on the UNet architecture with residual connections.|\n"
   ]
  },
  {
   "cell_type": "code",
   "execution_count": null,
   "id": "2dc65594",
   "metadata": {},
   "outputs": [],
   "source": [
    "https://github.com/OrkhanHI/Grab-AI-Computer-Vision-Challenge"
   ]
  }
 ],
 "metadata": {
  "kernelspec": {
   "display_name": "Python 3 (ipykernel)",
   "language": "python",
   "name": "python3"
  },
  "language_info": {
   "codemirror_mode": {
    "name": "ipython",
    "version": 3
   },
   "file_extension": ".py",
   "mimetype": "text/x-python",
   "name": "python",
   "nbconvert_exporter": "python",
   "pygments_lexer": "ipython3",
   "version": "3.9.8"
  }
 },
 "nbformat": 4,
 "nbformat_minor": 5
}
