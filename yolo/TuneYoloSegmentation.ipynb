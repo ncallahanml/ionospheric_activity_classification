{
 "cells": [
  {
   "cell_type": "code",
   "execution_count": null,
   "id": "f254c155",
   "metadata": {},
   "outputs": [],
   "source": [
    "!pip install --ignore-installed wandb\n",
    "!pip install --upgrade setuptools pip --user\n",
    "!pip install --ignore-installed PyYAML\n",
    "!pip install --ignore-installed roboflow"
   ]
  },
  {
   "cell_type": "code",
   "execution_count": null,
   "id": "07f3c419",
   "metadata": {},
   "outputs": [],
   "source": [
    "import sys\n",
    "import os\n",
    "import numpy as np\n",
    "import pandas as pd\n",
    "from roboflow import Roboflow"
   ]
  },
  {
   "cell_type": "code",
   "execution_count": null,
   "id": "29342e18",
   "metadata": {},
   "outputs": [],
   "source": [
    "import sys\n",
    "import torch\n",
    "from PIL import Image\n",
    "print(f\"Python version: {sys.version}, {sys.version_info} \")\n",
    "print(f\"Pytorch version: {torch.__version__} \")\n",
    "%cd yolov7\n",
    "print()\n",
    "!ls"
   ]
  },
  {
   "cell_type": "code",
   "execution_count": null,
   "id": "c5b48054",
   "metadata": {},
   "outputs": [],
   "source": [
    "!nvidia-smi"
   ]
  },
  {
   "cell_type": "code",
   "execution_count": null,
   "id": "2c1a9978",
   "metadata": {},
   "outputs": [],
   "source": [
    "!git clone https://github.com/ncallahanml/yolov7.git\n",
    "!git checkout u7"
   ]
  },
  {
   "cell_type": "code",
   "execution_count": null,
   "id": "6c60fbf5",
   "metadata": {},
   "outputs": [],
   "source": [
    "weight_strs = ['yolov7_training.pt','yolov7-e6_training.pt','yolov7-w6_training.pt','yolov7x-seg.pt']\n",
    "assert os.getcwd().endswith('yolov7/')\n",
    "for weight_str in weight_strs:\n",
    "    if not weight_str in os.listdir():\n",
    "        loc = f'https://github.com/WongKinYiu/yolov7/releases/download/v0.1/{weight_str}'\n",
    "        !curl -L $loc -o $weight_str \n",
    "        print(f'{weight_str} model weights finished downloading')\n",
    "    else:\n",
    "        print(f'{weight_str} model weights available')"
   ]
  },
  {
   "cell_type": "code",
   "execution_count": 5,
   "id": "76f14100",
   "metadata": {},
   "outputs": [
    {
     "name": "stdout",
     "output_type": "stream",
     "text": [
      "!python -m torch.distributed.launch --nproc_per_node 4 --master_port 9527 train.py --workers 8 --device 0,1,2,3 --batch-size 8 --data data/yolov14.yaml --img 1280 --cfg cfg/training/yolov7x-seg.yaml --weights yolov7x-seg.pt --name segmentation_test --hyp data/hyp.scratch.custom.yaml --epochs 1200\n"
     ]
    }
   ],
   "source": [
    "DATA_YAML = 'data.yaml'\n",
    "NAME = 'segmentation_test'\n",
    "WEIGHTS = 'yolov7-seg.pt'\n",
    "P6 = False\n",
    "DISTRIBUTED =True\n",
    "EPOCHS = 1200\n",
    "IMG_SIZE = 1280\n",
    "\n",
    "TRAIN_FILE = 'train_aux.py' if P6 else 'train.py'\n",
    "LEAD = '-m torch.distributed.launch --nproc_per_node 4 --master_port 9527 ' if DISTRIBUTED else ''\n",
    "DEVICE = '0,1,2,3' if DISTRIBUTED else '0'\n",
    "\n",
    "train_str = f\"!python {LEAD}{TRAIN_FILE} --workers 8 --device {DEVICE} --batch-size 8 --data data/{DATA_YAML} --img {IMG_SIZE} --cfg cfg/training/{WEIGHTS.replace('.pt','.yaml').replace('_training','')} --weights {WEIGHTS} --name {NAME} --hyp data/hyp.scratch.custom.yaml --epochs {EPOCHS}\"\n",
    "print(train_str)"
   ]
  },
  {
   "cell_type": "code",
   "execution_count": null,
   "id": "fb956007",
   "metadata": {},
   "outputs": [],
   "source": [
    "os.system(train_str[1:])"
   ]
  },
  {
   "cell_type": "code",
   "execution_count": null,
   "id": "ceaeb047",
   "metadata": {},
   "outputs": [],
   "source": [
    "!python -m torch.distributed.launch --nproc_per_node 4 --master_port 9527 train.py --workers 8 --device 0,1,2,3 --batch-size 8 --data data/yolov14.yaml --img 640 --cfg cfg/training/yolov7x.yaml --weights yolov7x_training.pt --name yolov7-v14_7x --hyp data/hyp.scratch.custom.custom.yaml --epochs 800"
   ]
  },
  {
   "cell_type": "code",
   "execution_count": null,
   "id": "fc5cde36",
   "metadata": {},
   "outputs": [],
   "source": [
    "rf = Roboflow(api_key='')\n",
    "project = rf.workspace(\"tid-detection\").project(\"ionospheresegmentation\")\n",
    "dataset = project.version(2).download(\"yolov7\")"
   ]
  },
  {
   "cell_type": "code",
   "execution_count": null,
   "id": "dd33ff7e",
   "metadata": {},
   "outputs": [],
   "source": [
    "!pip install -r requirements.txt\n",
    "!pip install setuptools==59.5.0\n",
    "!pip install torchvision==0.11.3+cu111 -f https://download.pytorch.org/whl/cu111/torch_stable.html"
   ]
  },
  {
   "cell_type": "code",
   "execution_count": null,
   "id": "d3656428",
   "metadata": {},
   "outputs": [],
   "source": [
    "!python detect.py --weights ./yolov7.pt --conf 0.25 --img-size 640 --source inference/images/horses.jpg"
   ]
  }
 ],
 "metadata": {
  "kernelspec": {
   "display_name": "Python 3 (ipykernel)",
   "language": "python",
   "name": "python3"
  },
  "language_info": {
   "codemirror_mode": {
    "name": "ipython",
    "version": 3
   },
   "file_extension": ".py",
   "mimetype": "text/x-python",
   "name": "python",
   "nbconvert_exporter": "python",
   "pygments_lexer": "ipython3",
   "version": "3.10.4"
  }
 },
 "nbformat": 4,
 "nbformat_minor": 5
}
