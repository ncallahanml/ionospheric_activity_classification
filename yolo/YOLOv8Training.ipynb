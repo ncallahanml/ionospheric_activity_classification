{
 "cells": [
  {
   "cell_type": "code",
   "execution_count": 6,
   "id": "598d0299",
   "metadata": {},
   "outputs": [],
   "source": [
    "import torch\n",
    "import pandas as pd\n",
    "import numpy as np\n",
    "from ultralytics import YOLO"
   ]
  },
  {
   "cell_type": "markdown",
   "id": "a82bbd6d",
   "metadata": {},
   "source": [
    "| Git | Docs | Summary |\n",
    "|:---:|:----:|:-------:|\n",
    "| [`Ultralytics YOLOv8`](https://github.com/ultralytics/ultralytics) | [`YOLOv8 Docs`](https://docs.ultralytics.com/) | YOLOv7 for the masses |\n",
    "| [`Comet Model Tracking`](https://www.comet.com/site/lp/yolov5-with-comet/?utm_source=yolov5&utm_medium=partner&utm_campaign=partner_yolov5_2022&utm_content=github) | `-` | Storage & updating software for model training |\n",
    "| [`YOLOv7 WongKinYiu`](https://github.com/WongKinYiu/yolov7) | [`YOLOv7 Paper`](https://arxiv.org/abs/2207.02696) | Original YOLOv7 Repo |\n",
    "| [`Roboflow Data`](https://app.roboflow.com/tid-detection/ionospheresegmentation/14) | `-` | Roboflow custom dataset for download |\n",
    "| [`Norfair`](https://github.com/tryolabs/norfair) | [`Norfair Docs`](https://tryolabs.github.io/norfair/2.2/reference/) | Tracking for use with object detectors |"
   ]
  },
  {
   "cell_type": "code",
   "execution_count": 1,
   "id": "8ce9c63c",
   "metadata": {},
   "outputs": [
    {
     "name": "stdout",
     "output_type": "stream",
     "text": [
      "Defaulting to user installation because normal site-packages is not writeable\n",
      "Looking in indexes: https://pypi.org/simple, https://pypi.ngc.nvidia.com\n",
      "Requirement already satisfied: ultralytics in /home/nwcallahan/.local/lib/python3.9/site-packages (8.0.5)\n",
      "Requirement already satisfied: GitPython>=3.1.24 in /home/nwcallahan/.local/lib/python3.9/site-packages (from ultralytics) (3.1.29)\n",
      "Requirement already satisfied: ipython in /home/nwcallahan/.local/lib/python3.9/site-packages (from ultralytics) (7.29.0)\n",
      "Requirement already satisfied: torchvision>=0.8.1 in /home/nwcallahan/.local/lib/python3.9/site-packages (from ultralytics) (0.11.3+cu111)\n",
      "Requirement already satisfied: seaborn>=0.11.0 in /home/nwcallahan/.local/lib/python3.9/site-packages (from ultralytics) (0.11.2)\n",
      "Requirement already satisfied: matplotlib>=3.2.2 in /home/nwcallahan/.local/lib/python3.9/site-packages (from ultralytics) (3.5.0)\n",
      "Requirement already satisfied: tqdm>=4.64.0 in /home/nwcallahan/.local/lib/python3.9/site-packages (from ultralytics) (4.64.1)\n",
      "Requirement already satisfied: pandas>=1.1.4 in /home/nwcallahan/.local/lib/python3.9/site-packages (from ultralytics) (1.3.4)\n",
      "Requirement already satisfied: hydra-core>=1.2.0 in /home/nwcallahan/.local/lib/python3.9/site-packages (from ultralytics) (1.2.0)\n",
      "Requirement already satisfied: numpy>=1.18.5 in /home/nwcallahan/.local/lib/python3.9/site-packages (from ultralytics) (1.22.4)\n",
      "Requirement already satisfied: opencv-python>=4.1.1 in /home/nwcallahan/.local/lib/python3.9/site-packages (from ultralytics) (4.5.4.58)\n",
      "Requirement already satisfied: scipy>=1.4.1 in /home/nwcallahan/.local/lib/python3.9/site-packages (from ultralytics) (1.7.2)\n",
      "Requirement already satisfied: psutil in /home/nwcallahan/.local/lib/python3.9/site-packages (from ultralytics) (5.9.0)\n",
      "Requirement already satisfied: requests>=2.23.0 in /home/nwcallahan/.local/lib/python3.9/site-packages (from ultralytics) (2.26.0)\n",
      "Requirement already satisfied: tensorboard>=2.4.1 in /home/nwcallahan/.local/lib/python3.9/site-packages (from ultralytics) (2.10.1)\n",
      "Requirement already satisfied: thop>=0.1.1 in /home/nwcallahan/.local/lib/python3.9/site-packages (from ultralytics) (0.1.1.post2209072238)\n",
      "Requirement already satisfied: Pillow>=7.1.2 in /home/nwcallahan/.local/lib/python3.9/site-packages (from ultralytics) (8.4.0)\n",
      "Requirement already satisfied: torch>=1.7.0 in /home/nwcallahan/.local/lib/python3.9/site-packages (from ultralytics) (1.10.2)\n",
      "Requirement already satisfied: PyYAML>=5.3.1 in /home/nwcallahan/.local/lib/python3.9/site-packages (from ultralytics) (6.0)\n",
      "Requirement already satisfied: gitdb<5,>=4.0.1 in /home/nwcallahan/.local/lib/python3.9/site-packages (from GitPython>=3.1.24->ultralytics) (4.0.9)\n",
      "Requirement already satisfied: antlr4-python3-runtime==4.9.* in /home/nwcallahan/.local/lib/python3.9/site-packages (from hydra-core>=1.2.0->ultralytics) (4.9.3)\n",
      "Requirement already satisfied: packaging in /home/nwcallahan/.local/lib/python3.9/site-packages (from hydra-core>=1.2.0->ultralytics) (21.2)\n",
      "Requirement already satisfied: omegaconf~=2.2 in /home/nwcallahan/.local/lib/python3.9/site-packages (from hydra-core>=1.2.0->ultralytics) (2.2.3)\n",
      "Requirement already satisfied: python-dateutil>=2.7 in /home/nwcallahan/.local/lib/python3.9/site-packages (from matplotlib>=3.2.2->ultralytics) (2.8.2)\n",
      "Requirement already satisfied: fonttools>=4.22.0 in /home/nwcallahan/.local/lib/python3.9/site-packages (from matplotlib>=3.2.2->ultralytics) (4.28.1)\n",
      "Requirement already satisfied: pyparsing>=2.2.1 in /home/nwcallahan/.local/lib/python3.9/site-packages (from matplotlib>=3.2.2->ultralytics) (2.4.7)\n",
      "Requirement already satisfied: cycler>=0.10 in /home/nwcallahan/.local/lib/python3.9/site-packages (from matplotlib>=3.2.2->ultralytics) (0.10.0)\n",
      "Requirement already satisfied: setuptools-scm>=4 in /home/nwcallahan/.local/lib/python3.9/site-packages (from matplotlib>=3.2.2->ultralytics) (6.3.2)\n",
      "Requirement already satisfied: kiwisolver>=1.0.1 in /home/nwcallahan/.local/lib/python3.9/site-packages (from matplotlib>=3.2.2->ultralytics) (1.3.1)\n",
      "Requirement already satisfied: pytz>=2017.3 in /home/nwcallahan/.local/lib/python3.9/site-packages (from pandas>=1.1.4->ultralytics) (2021.3)\n",
      "Requirement already satisfied: charset-normalizer~=2.0.0 in /home/nwcallahan/.local/lib/python3.9/site-packages (from requests>=2.23.0->ultralytics) (2.0.7)\n",
      "Requirement already satisfied: certifi>=2017.4.17 in /home/nwcallahan/.local/lib/python3.9/site-packages (from requests>=2.23.0->ultralytics) (2021.5.30)\n",
      "Requirement already satisfied: urllib3<1.27,>=1.21.1 in /home/nwcallahan/.local/lib/python3.9/site-packages (from requests>=2.23.0->ultralytics) (1.26.13)\n",
      "Requirement already satisfied: idna<4,>=2.5 in /home/nwcallahan/.local/lib/python3.9/site-packages (from requests>=2.23.0->ultralytics) (2.10)\n",
      "Requirement already satisfied: setuptools>=41.0.0 in /home/nwcallahan/.local/lib/python3.9/site-packages (from tensorboard>=2.4.1->ultralytics) (59.5.0)\n",
      "Requirement already satisfied: tensorboard-data-server<0.7.0,>=0.6.0 in /home/nwcallahan/.local/lib/python3.9/site-packages (from tensorboard>=2.4.1->ultralytics) (0.6.1)\n",
      "Requirement already satisfied: wheel>=0.26 in /home/nwcallahan/.local/lib/python3.9/site-packages (from tensorboard>=2.4.1->ultralytics) (0.37.0)\n",
      "Requirement already satisfied: google-auth<3,>=1.6.3 in /home/nwcallahan/.local/lib/python3.9/site-packages (from tensorboard>=2.4.1->ultralytics) (2.3.3)\n",
      "Requirement already satisfied: grpcio>=1.24.3 in /home/nwcallahan/.local/lib/python3.9/site-packages (from tensorboard>=2.4.1->ultralytics) (1.41.1)\n",
      "Requirement already satisfied: absl-py>=0.4 in /home/nwcallahan/.local/lib/python3.9/site-packages (from tensorboard>=2.4.1->ultralytics) (1.3.0)\n",
      "Requirement already satisfied: tensorboard-plugin-wit>=1.6.0 in /home/nwcallahan/.local/lib/python3.9/site-packages (from tensorboard>=2.4.1->ultralytics) (1.8.0)\n",
      "Requirement already satisfied: google-auth-oauthlib<0.5,>=0.4.1 in /home/nwcallahan/.local/lib/python3.9/site-packages (from tensorboard>=2.4.1->ultralytics) (0.4.6)\n",
      "Requirement already satisfied: markdown>=2.6.8 in /home/nwcallahan/.local/lib/python3.9/site-packages (from tensorboard>=2.4.1->ultralytics) (3.3.5)\n",
      "Requirement already satisfied: protobuf<3.20,>=3.9.2 in /home/nwcallahan/.local/lib/python3.9/site-packages (from tensorboard>=2.4.1->ultralytics) (3.19.6)\n",
      "Requirement already satisfied: werkzeug>=1.0.1 in /home/nwcallahan/.local/lib/python3.9/site-packages (from tensorboard>=2.4.1->ultralytics) (2.0.2)\n",
      "Requirement already satisfied: typing-extensions in /home/nwcallahan/.local/lib/python3.9/site-packages (from torch>=1.7.0->ultralytics) (3.10.0.2)\n",
      "Requirement already satisfied: traitlets>=4.2 in /home/nwcallahan/.local/lib/python3.9/site-packages (from ipython->ultralytics) (5.1.1)\n",
      "Requirement already satisfied: backcall in /home/nwcallahan/.local/lib/python3.9/site-packages (from ipython->ultralytics) (0.2.0)\n",
      "Requirement already satisfied: prompt-toolkit!=3.0.0,!=3.0.1,<3.1.0,>=2.0.0 in /home/nwcallahan/.local/lib/python3.9/site-packages (from ipython->ultralytics) (3.0.22)\n",
      "Requirement already satisfied: matplotlib-inline in /home/nwcallahan/.local/lib/python3.9/site-packages (from ipython->ultralytics) (0.1.3)\n",
      "Requirement already satisfied: pexpect>4.3 in /home/nwcallahan/.local/lib/python3.9/site-packages (from ipython->ultralytics) (4.8.0)\n",
      "Requirement already satisfied: pygments in /home/nwcallahan/.local/lib/python3.9/site-packages (from ipython->ultralytics) (2.10.0)\n",
      "Requirement already satisfied: decorator in /home/nwcallahan/.local/lib/python3.9/site-packages (from ipython->ultralytics) (4.4.2)\n",
      "Requirement already satisfied: jedi>=0.16 in /home/nwcallahan/.local/lib/python3.9/site-packages (from ipython->ultralytics) (0.18.0)\n",
      "Requirement already satisfied: pickleshare in /home/nwcallahan/.local/lib/python3.9/site-packages (from ipython->ultralytics) (0.7.5)\n",
      "Requirement already satisfied: six in /home/nwcallahan/.local/lib/python3.9/site-packages (from cycler>=0.10->matplotlib>=3.2.2->ultralytics) (1.16.0)\n",
      "Requirement already satisfied: smmap<6,>=3.0.1 in /home/nwcallahan/.local/lib/python3.9/site-packages (from gitdb<5,>=4.0.1->GitPython>=3.1.24->ultralytics) (5.0.0)\n",
      "Requirement already satisfied: pyasn1-modules>=0.2.1 in /home/nwcallahan/.local/lib/python3.9/site-packages (from google-auth<3,>=1.6.3->tensorboard>=2.4.1->ultralytics) (0.2.8)\n",
      "Requirement already satisfied: rsa<5,>=3.1.4 in /home/nwcallahan/.local/lib/python3.9/site-packages (from google-auth<3,>=1.6.3->tensorboard>=2.4.1->ultralytics) (4.7.2)\n",
      "Requirement already satisfied: cachetools<5.0,>=2.0.0 in /home/nwcallahan/.local/lib/python3.9/site-packages (from google-auth<3,>=1.6.3->tensorboard>=2.4.1->ultralytics) (4.2.4)\n",
      "Requirement already satisfied: requests-oauthlib>=0.7.0 in /home/nwcallahan/.local/lib/python3.9/site-packages (from google-auth-oauthlib<0.5,>=0.4.1->tensorboard>=2.4.1->ultralytics) (1.3.0)\n"
     ]
    },
    {
     "name": "stdout",
     "output_type": "stream",
     "text": [
      "Requirement already satisfied: parso<0.9.0,>=0.8.0 in /home/nwcallahan/.local/lib/python3.9/site-packages (from jedi>=0.16->ipython->ultralytics) (0.8.2)\n",
      "Requirement already satisfied: importlib-metadata>='4.4' in /home/nwcallahan/.local/lib/python3.9/site-packages (from markdown>=2.6.8->tensorboard>=2.4.1->ultralytics) (4.8.2)\n",
      "Requirement already satisfied: ptyprocess>=0.5 in /home/nwcallahan/.local/lib/python3.9/site-packages (from pexpect>4.3->ipython->ultralytics) (0.7.0)\n",
      "Requirement already satisfied: wcwidth in /home/nwcallahan/.local/lib/python3.9/site-packages (from prompt-toolkit!=3.0.0,!=3.0.1,<3.1.0,>=2.0.0->ipython->ultralytics) (0.2.5)\n",
      "Requirement already satisfied: tomli>=1.0.0 in /home/nwcallahan/.local/lib/python3.9/site-packages (from setuptools-scm>=4->matplotlib>=3.2.2->ultralytics) (1.2.2)\n",
      "Requirement already satisfied: zipp>=0.5 in /home/nwcallahan/.local/lib/python3.9/site-packages (from importlib-metadata>='4.4'->markdown>=2.6.8->tensorboard>=2.4.1->ultralytics) (3.6.0)\n",
      "Requirement already satisfied: pyasn1<0.5.0,>=0.4.6 in /home/nwcallahan/.local/lib/python3.9/site-packages (from pyasn1-modules>=0.2.1->google-auth<3,>=1.6.3->tensorboard>=2.4.1->ultralytics) (0.4.8)\n",
      "Requirement already satisfied: oauthlib>=3.0.0 in /home/nwcallahan/.local/lib/python3.9/site-packages (from requests-oauthlib>=0.7.0->google-auth-oauthlib<0.5,>=0.4.1->tensorboard>=2.4.1->ultralytics) (3.1.1)\n"
     ]
    }
   ],
   "source": [
    "!pip install ultralytics"
   ]
  },
  {
   "cell_type": "code",
   "execution_count": 8,
   "id": "2dec36fd",
   "metadata": {},
   "outputs": [
    {
     "name": "stdout",
     "output_type": "stream",
     "text": [
      "Sat Jan 14 00:12:32 2023       \n",
      "+-----------------------------------------------------------------------------+\n",
      "| NVIDIA-SMI 515.65.01    Driver Version: 515.65.01    CUDA Version: 11.7     |\n",
      "|-------------------------------+----------------------+----------------------+\n",
      "| GPU  Name        Persistence-M| Bus-Id        Disp.A | Volatile Uncorr. ECC |\n",
      "| Fan  Temp  Perf  Pwr:Usage/Cap|         Memory-Usage | GPU-Util  Compute M. |\n",
      "|                               |                      |               MIG M. |\n",
      "|===============================+======================+======================|\n",
      "|   0  NVIDIA GeForce ...  On   | 00000000:17:00.0 Off |                  N/A |\n",
      "|  0%   34C    P8     6W / 260W |     13MiB / 11264MiB |      0%      Default |\n",
      "|                               |                      |                  N/A |\n",
      "+-------------------------------+----------------------+----------------------+\n",
      "|   1  NVIDIA GeForce ...  On   | 00000000:18:00.0 Off |                  N/A |\n",
      "|  0%   32C    P8    13W / 260W |     13MiB / 11264MiB |      0%      Default |\n",
      "|                               |                      |                  N/A |\n",
      "+-------------------------------+----------------------+----------------------+\n",
      "|   2  NVIDIA GeForce ...  On   | 00000000:65:00.0  On |                  N/A |\n",
      "|  0%   44C    P8    38W / 260W |    669MiB / 11264MiB |     37%      Default |\n",
      "|                               |                      |                  N/A |\n",
      "+-------------------------------+----------------------+----------------------+\n",
      "|   3  NVIDIA GeForce ...  On   | 00000000:B3:00.0 Off |                  N/A |\n",
      "|  0%   32C    P8    11W / 260W |     13MiB / 11264MiB |      0%      Default |\n",
      "|                               |                      |                  N/A |\n",
      "+-------------------------------+----------------------+----------------------+\n",
      "                                                                               \n",
      "+-----------------------------------------------------------------------------+\n",
      "| Processes:                                                                  |\n",
      "|  GPU   GI   CI        PID   Type   Process name                  GPU Memory |\n",
      "|        ID   ID                                                   Usage      |\n",
      "|=============================================================================|\n",
      "|    0   N/A  N/A      2467      G   /usr/lib/xorg/Xorg                  4MiB |\n",
      "|    0   N/A  N/A      3675      G   /usr/lib/xorg/Xorg                  4MiB |\n",
      "|    1   N/A  N/A      2467      G   /usr/lib/xorg/Xorg                  4MiB |\n",
      "|    1   N/A  N/A      3675      G   /usr/lib/xorg/Xorg                  4MiB |\n",
      "|    2   N/A  N/A      2467      G   /usr/lib/xorg/Xorg                 18MiB |\n",
      "|    2   N/A  N/A      2628      G   /usr/bin/gnome-shell               71MiB |\n",
      "|    2   N/A  N/A      3675      G   /usr/lib/xorg/Xorg                239MiB |\n",
      "|    2   N/A  N/A      3862      G   /usr/bin/gnome-shell               73MiB |\n",
      "|    2   N/A  N/A     12737      G   /usr/lib/firefox/firefox          245MiB |\n",
      "|    2   N/A  N/A     14144      G   ...871529856354221756,131072       13MiB |\n",
      "|    3   N/A  N/A      2467      G   /usr/lib/xorg/Xorg                  4MiB |\n",
      "|    3   N/A  N/A      3675      G   /usr/lib/xorg/Xorg                  4MiB |\n",
      "+-----------------------------------------------------------------------------+\n",
      "nvcc: NVIDIA (R) Cuda compiler driver\n",
      "Copyright (c) 2005-2022 NVIDIA Corporation\n",
      "Built on Wed_Jun__8_16:49:14_PDT_2022\n",
      "Cuda compilation tools, release 11.7, V11.7.99\n",
      "Build cuda_11.7.r11.7/compiler.31442593_0\n",
      "Cuda Is Available:True\n"
     ]
    }
   ],
   "source": [
    "!nvidia-smi\n",
    "!nvcc -V\n",
    "print('Cuda Is Available:', end='')\n",
    "print(torch.cuda.is_available())"
   ]
  },
  {
   "cell_type": "code",
   "execution_count": null,
   "id": "5e5f3ee2",
   "metadata": {},
   "outputs": [
    {
     "name": "stderr",
     "output_type": "stream",
     "text": [
      "Downloading https://github.com/ultralytics/assets/releases/download/v0.0.0/yolov8x.pt to yolov8x.pt...\n"
     ]
    },
    {
     "data": {
      "application/vnd.jupyter.widget-view+json": {
       "model_id": "c3774a35c6a94c8f9786b19b44847859",
       "version_major": 2,
       "version_minor": 0
      },
      "text/plain": [
       "  0%|          | 0.00/131M [00:00<?, ?B/s]"
      ]
     },
     "metadata": {},
     "output_type": "display_data"
    },
    {
     "name": "stderr",
     "output_type": "stream",
     "text": [
      "\n",
      "Ultralytics YOLOv8.0.5 🚀 Python-3.9.8 torch-1.10.2+cu102 CUDA:0 (NVIDIA GeForce RTX 2080 Ti, 11020MiB)\n",
      "\u001b[34m\u001b[1myolo/engine/trainer: \u001b[0mtask=detect, mode=train, model=yolov8x.yaml, data=data.yaml, epochs=10, patience=50, batch=16, imgsz=640, save=True, cache=False, device=, workers=8, project=None, name=None, exist_ok=False, pretrained=False, optimizer=SGD, verbose=False, seed=0, deterministic=True, single_cls=False, image_weights=False, rect=False, cos_lr=False, close_mosaic=10, resume=False, overlap_mask=True, mask_ratio=4, dropout=False, val=True, save_json=False, save_hybrid=False, conf=0.001, iou=0.7, max_det=300, half=True, dnn=False, plots=False, source=ultralytics/assets/, show=False, save_txt=False, save_conf=False, save_crop=False, hide_labels=False, hide_conf=False, vid_stride=1, line_thickness=3, visualize=False, augment=False, agnostic_nms=False, retina_masks=False, format=torchscript, keras=False, optimize=False, int8=False, dynamic=False, simplify=False, opset=17, workspace=4, nms=False, lr0=0.01, lrf=0.01, momentum=0.937, weight_decay=0.0010078125, warmup_epochs=3.0, warmup_momentum=0.8, warmup_bias_lr=0.1, box=7.5, cls=0.5, dfl=1.5, fl_gamma=0.0, label_smoothing=0.0, nbs=64, hsv_h=0.015, hsv_s=0.7, hsv_v=0.4, degrees=0.0, translate=0.1, scale=0.9, shear=0.0, perspective=0.0, flipud=0.0, fliplr=0.5, mosaic=1.0, mixup=0.15, copy_paste=0.3, cfg=None, hydra={'output_subdir': None, 'run': {'dir': '.'}}, v5loader=True, save_dir=runs/detect/train\n",
      "Overriding model.yaml nc=80 with nc=1\n",
      "\n",
      "                   from  n    params  module                                       arguments                     \n",
      "  0                  -1  1      2320  ultralytics.nn.modules.Conv                  [3, 80, 3, 2]                 \n",
      "  1                  -1  1    115520  ultralytics.nn.modules.Conv                  [80, 160, 3, 2]               \n",
      "  2                  -1  3    436800  ultralytics.nn.modules.C2f                   [160, 160, 3, True]           \n",
      "  3                  -1  1    461440  ultralytics.nn.modules.Conv                  [160, 320, 3, 2]              \n",
      "  4                  -1  6   3281920  ultralytics.nn.modules.C2f                   [320, 320, 6, True]           \n",
      "  5                  -1  1   1844480  ultralytics.nn.modules.Conv                  [320, 640, 3, 2]              \n",
      "  6                  -1  6  13117440  ultralytics.nn.modules.C2f                   [640, 640, 6, True]           \n",
      "  7                  -1  1   3687680  ultralytics.nn.modules.Conv                  [640, 640, 3, 2]              \n",
      "  8                  -1  3   6969600  ultralytics.nn.modules.C2f                   [640, 640, 3, True]           \n",
      "  9                  -1  1   1025920  ultralytics.nn.modules.SPPF                  [640, 640, 5]                 \n",
      " 10                  -1  1         0  torch.nn.modules.upsampling.Upsample         [None, 2, 'nearest']          \n",
      " 11             [-1, 6]  1         0  ultralytics.nn.modules.Concat                [1]                           \n",
      " 12                  -1  3   7379200  ultralytics.nn.modules.C2f                   [1280, 640, 3]                \n",
      " 13                  -1  1         0  torch.nn.modules.upsampling.Upsample         [None, 2, 'nearest']          \n",
      " 14             [-1, 4]  1         0  ultralytics.nn.modules.Concat                [1]                           \n",
      " 15                  -1  3   1948800  ultralytics.nn.modules.C2f                   [960, 320, 3]                 \n",
      " 16                  -1  1    922240  ultralytics.nn.modules.Conv                  [320, 320, 3, 2]              \n",
      " 17            [-1, 12]  1         0  ultralytics.nn.modules.Concat                [1]                           \n",
      " 18                  -1  3   7174400  ultralytics.nn.modules.C2f                   [960, 640, 3]                 \n",
      " 19                  -1  1   3687680  ultralytics.nn.modules.Conv                  [640, 640, 3, 2]              \n",
      " 20             [-1, 9]  1         0  ultralytics.nn.modules.Concat                [1]                           \n",
      " 21                  -1  3   7379200  ultralytics.nn.modules.C2f                   [1280, 640, 3]                \n",
      " 22        [15, 18, 21]  1   8718931  ultralytics.nn.modules.Detect                [1, [320, 640, 640]]          \n",
      "Model summary: 365 layers, 68153571 parameters, 68153555 gradients, 258.1 GFLOPs\n",
      "\n",
      "Transferred 589/595 items from pretrained weights\n"
     ]
    }
   ],
   "source": [
    "od_model = YOLO(\"yolov8x.pt\")  # load a pretrained model (recommended for training)\n",
    "\n",
    "# Use the model\n",
    "results = od_model.train(data=\"data.yaml\", epochs=10, imgsz=640)  # train the model\n",
    "results = od_model.val()  # evaluate model performance on the validation set\n",
    "results = od_model(\"tid_example.jpg\")  # predict on an image\n",
    "success = od_model.export(format=\"-\")"
   ]
  },
  {
   "cell_type": "code",
   "execution_count": null,
   "id": "4c37b709",
   "metadata": {},
   "outputs": [],
   "source": [
    "is_model = YOLO(\"yolov8x-seg.pt\")  # load a pretrained model (recommended for training)\n",
    "\n",
    "# Use the model\n",
    "results = is_model.train(data=\"data.yaml\", epochs=10, imgsz=640)  # train the model\n",
    "results = is_model.val()  # evaluate model performance on the validation set\n",
    "results = is_model(\"tid_example.jpg\")  # predict on an image\n",
    "success = is_model.export(format=\"-\")"
   ]
  },
  {
   "cell_type": "code",
   "execution_count": null,
   "id": "7fa7a89c",
   "metadata": {},
   "outputs": [],
   "source": [
    "model = YOLO(\"path/to/best.pt\")"
   ]
  },
  {
   "cell_type": "markdown",
   "id": "10b55f1b",
   "metadata": {},
   "source": [
    "# Norfair Integration Attempt"
   ]
  },
  {
   "cell_type": "code",
   "execution_count": null,
   "id": "97bd776b",
   "metadata": {},
   "outputs": [],
   "source": [
    "import os\n",
    "\n",
    "import numpy as np\n",
    "import torch\n",
    "import torchvision.ops.boxes as bops\n",
    "\n",
    "import norfair\n",
    "from norfair import Detection, Paths, Tracker, Video\n",
    "\n",
    "DISTANCE_THRESHOLD_BBOX = 0.7\n",
    "DISTANCE_THRESHOLD_CENTROID = 30\n",
    "CLASSES = None\n",
    "MAX_DISTANCE: int = 10000"
   ]
  },
  {
   "cell_type": "code",
   "execution_count": null,
   "id": "7a66aa16",
   "metadata": {},
   "outputs": [],
   "source": [
    "try:\n",
    "    self.model = torch.hub.load(\"WongKinYiu/yolov7\", \"custom\", model_path)\n",
    "except:\n",
    "    raise Exception(\"Failed to load model from {}\".format(model_path))\n"
   ]
  },
  {
   "cell_type": "code",
   "execution_count": null,
   "id": "45b946ba",
   "metadata": {},
   "outputs": [],
   "source": [
    "def yolo_detections_to_norfair_detections(yolo_detections: torch.tensor):\n",
    "    norfair_detections = []\n",
    "    detection_as_xyxys = yolo_detections.xyxy[0]\n",
    "    for detection_as_xyxy in detections_as_xyxys:\n",
    "        bbox = np.array([\n",
    "            [detection_as_xyxy[0].item(), detection_as_xyxy[1].item()],\n",
    "            [detection_as_xyxy[2].item(), detection_as_xyxy[3].item()],\n",
    "        ])\n",
    "        scores = np.array([detection_as_xyxy[4].item(), detection_as_xyxy[4].item()])\n",
    "        norfair_detections.append(Detection(points=bbox, scores=scores, label=int(detection_as_xyxy[-1].item())))\n",
    "\n",
    "    return norfair_detections"
   ]
  },
  {
   "cell_type": "code",
   "execution_count": null,
   "id": "472dd048",
   "metadata": {},
   "outputs": [],
   "source": [
    "for file in files:\n",
    "    video = Video(input_path=file)\n",
    "\n",
    "    tracker = Tracker(\n",
    "        distance_function='iou',\n",
    "        distance_threshold=DISTANCE_THRESHOLD_BBOX,\n",
    "    )\n",
    "\n",
    "    for frame in video:\n",
    "        yolo_detections = model(\n",
    "            frame,\n",
    "            conf_threshold=args.conf_threshold,\n",
    "            iou_threshold=args.iou_threshold,\n",
    "            image_size=args.img_size,\n",
    "            classes=CLASSES,\n",
    "        )\n",
    "        detections = yolo_detections_to_norfair_detections(\n",
    "            yolo_detections, \n",
    "#             track_points=args.track_points,\n",
    "        )\n",
    "        tracked_objects = tracker.update(detections=detections)\n",
    "        if args.track_points == \"centroid\":\n",
    "            norfair.draw_points(frame, detections)\n",
    "            norfair.draw_tracked_objects(frame, tracked_objects)\n",
    "        elif args.track_points == \"bbox\":\n",
    "            norfair.draw_boxes(frame, detections)\n",
    "            norfair.draw_tracked_boxes(frame, tracked_objects)\n",
    "        video.write(frame)"
   ]
  }
 ],
 "metadata": {
  "kernelspec": {
   "display_name": "Python 3 (ipykernel)",
   "language": "python",
   "name": "python3"
  },
  "language_info": {
   "codemirror_mode": {
    "name": "ipython",
    "version": 3
   },
   "file_extension": ".py",
   "mimetype": "text/x-python",
   "name": "python",
   "nbconvert_exporter": "python",
   "pygments_lexer": "ipython3",
   "version": "3.9.8"
  }
 },
 "nbformat": 4,
 "nbformat_minor": 5
}
