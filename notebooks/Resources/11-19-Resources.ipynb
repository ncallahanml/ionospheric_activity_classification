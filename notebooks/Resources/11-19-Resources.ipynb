{
 "cells": [
  {
   "cell_type": "markdown",
   "id": "0a76284a",
   "metadata": {},
   "source": [
    "### Datasets\n",
    "[Medical Image Segmentation PwC](https://paperswithcode.com/task/medical-image-segmentation) <br>\n",
    "[COCO Minival Instance Segmentation](https://paperswithcode.com/sota/instance-segmentation-on-coco-minival?p=eva-exploring-the-limits-of-masked-visual) <br>\n",
    "\n",
    "\n",
    "[Gastrointestinal Kvasir Seg](https://datasets.simula.no/kvasir-seg/) <br>\n",
    "[Medical Segmentation Decathlon](http://medicaldecathlon.com/) <br>\n",
    "[NYU Depth Dataset](https://cs.nyu.edu/~silberman/datasets/nyu_depth_v2.html#raw_parts) <br>\n",
    "[Large General Instance Segmentation](https://paperswithcode.com/dataset/lvis) <br>\n",
    "[Brain Tumor Segmentation](https://paperswithcode.com/task/brain-tumor-segmentation) <br>\n",
    "[Colonoscopy Segmentation](https://paperswithcode.com/dataset/cvc-clinicdb) <br>\n",
    "[Kaggle Cancer Image Segmentation](https://www.kaggle.com/datasets/andrewmvd/cancer-instance-segmentation-and-classification-3) <br>\n",
    "[Human Protein Atlas](https://www.proteinatlas.org/about/download) <br>\n",
    "\n",
    "\n",
    "[Driving Segmentation BDD100k](https://paperswithcode.com/dataset/bdd100k) <br>\n",
    "[Agricultural Plot Segmentation](https://paperswithcode.com/dataset/bdd100k) <br>\n"
   ]
  },
  {
   "cell_type": "markdown",
   "id": "e2ed9029",
   "metadata": {},
   "source": [
    "### Models\n",
    "[Pytorch Segmentations Models](https://github.com/LeeJunHyun/Image_Segmentation) <br>\n",
    "[SwinTransformer General](https://github.com/microsoft/Swin-Transformer) <br>\n",
    "[SwinTransformer Object Detection](https://github.com/SwinTransformer/Swin-Transformer-Object-Detection) <br>\n",
    "[EVA (SOTA)](https://github.com/baaivision/eva) <br>\n"
   ]
  },
  {
   "cell_type": "markdown",
   "id": "5a5be924",
   "metadata": {},
   "source": [
    "### Tutorial\n",
    "[Yolov7 Custom Training](https://blog.paperspace.com/train-yolov7-custom-data/) <br>\n",
    "[Yolov7 Segmentation Github](https://github.com/RizwanMunawar/yolov7-segmentation) <br>\n",
    "[Yolov7 Instance Segmentation](https://stackabuse.com/instance-segmentation-with-yolov7-in-python/) <br>\n",
    "[Yolov7 Segmentation Training Blog](https://medium.com/augmented-startups/train-yolov7-segmentation-on-custom-data-b91237bd2a29) <br>\n",
    "[Pytorch Beginner Examples](https://github.com/L1aoXingyu/pytorch-beginner) <br>\n",
    "[Yolov7 Mask](https://github.com/WongKinYiu/yolov7/tree/mask) <br>"
   ]
  },
  {
   "cell_type": "markdown",
   "id": "20c84f9a",
   "metadata": {},
   "source": [
    "### Misc\n",
    "[DiffusionDet Obj Detection](https://paperswithcode.com/paper/diffusiondet-diffusion-model-for-object) <br>\n",
    "[MOTRv2 Object Tracking](https://paperswithcode.com/paper/motrv2-bootstrapping-end-to-end-multi-object) <br>\n",
    "[Multiple Object Tracking](https://paperswithcode.com/sota/multiple-object-tracking-on-kitti-tracking) <br>"
   ]
  }
 ],
 "metadata": {
  "kernelspec": {
   "display_name": "Python 3 (ipykernel)",
   "language": "python",
   "name": "python3"
  },
  "language_info": {
   "codemirror_mode": {
    "name": "ipython",
    "version": 3
   },
   "file_extension": ".py",
   "mimetype": "text/x-python",
   "name": "python",
   "nbconvert_exporter": "python",
   "pygments_lexer": "ipython3",
   "version": "3.9.12"
  }
 },
 "nbformat": 4,
 "nbformat_minor": 5
}
