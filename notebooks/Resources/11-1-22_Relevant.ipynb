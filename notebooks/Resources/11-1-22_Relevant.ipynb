{
 "cells": [
  {
   "cell_type": "code",
   "execution_count": null,
   "id": "8a2f7d63",
   "metadata": {},
   "outputs": [],
   "source": [
    "classes = df['class'].unique()\n",
    "class_dict = dict(zip(classes, list(range(classes))))\n",
    "\n",
    "def coords_to_yolo(img_width, img_height, xmin, ymin, xmax, ymax):\n",
    "    width = (xmax - xmin) / img_width\n",
    "    height = (ymax - ymin) / img_height\n",
    "    x = ((xmin + xmax) / 2) / img_width\n",
    "    y = ((ymin + ymax) / 2) / img_height\n",
    "    return x, y, width, height\n",
    "\n",
    "for filename in df['filename'].unique():\n",
    "    temp_df = df.loc[filename,:]\n",
    "    with file as open(f'{filename.replace('.jpg','')}.txt', 'w'):\n",
    "        for row in temp_df.iterrows():\n",
    "            x, y, width, height = coords_to_yolo(row['width'], row['height'], row['xmin'], row['ymin'], row['xmax'], row['ymax'])\n",
    "            detection_line = f'{class_dict[row['class']]} {x} {y} {width} {height}\\n'\n",
    "            file.append(detection_line)\n",
    "    "
   ]
  },
  {
   "cell_type": "markdown",
   "id": "2fe4c4d5",
   "metadata": {},
   "source": [
    "[PCA Augmentation](https://github.com/aparico/pca-color-augment)  \n",
    "[Medium YOLOv7 Training](https://medium.com/augmented-startups/yolov7-training-on-custom-data-b86d23e6623)  \n",
    "[Roboflow YOLOv7](https://colab.research.google.com/drive/1X9A8odmK4k6l26NDviiT6dd6TgR-piOa#scrollTo=N4cfnLtTCIce)  \n",
    "[Roboflow Models](https://models.roboflow.com/)  \n",
    "[Roboflow YOLOv7 Model](https://models.roboflow.com/object-detection/yolov7)  \n",
    "[YOLOv7 Instance Doc](https://github.com/WongKinYiu/yolov7/blob/main/tools/instance.ipynb)  \n",
    "[Keras Pixel Scaling](https://machinelearningmastery.com/how-to-normalize-center-and-standardize-images-with-the-imagedatagenerator-in-keras/)  \n",
    "[Data Augmentation Strategies](https://www.ecva.net/papers/eccv_2020/papers_ECCV/papers/123720562.pdf)  \n",
    "[Albumentations](https://albumentations.ai/docs/getting_started/bounding_boxes_augmentation/)  \n",
    "[CE Net](https://www.kaggle.com/code/momincks/medical-image-segmentation-with-ce-net)  \n",
    "[Unet Pytorch](https://www.kaggle.com/code/awsaf49/uwmgi-unet-infer-pytorch)  \n",
    "[Cervical Spine Factor Detection](https://www.kaggle.com/competitions/rsna-2022-cervical-spine-fracture-detection/data)  \n",
    "[Medical MNIST](https://paperswithcode.com/dataset/medmnist-v2)  \n"
   ]
  }
 ],
 "metadata": {
  "kernelspec": {
   "display_name": "Python 3 (ipykernel)",
   "language": "python",
   "name": "python3"
  },
  "language_info": {
   "codemirror_mode": {
    "name": "ipython",
    "version": 3
   },
   "file_extension": ".py",
   "mimetype": "text/x-python",
   "name": "python",
   "nbconvert_exporter": "python",
   "pygments_lexer": "ipython3",
   "version": "3.9.8"
  }
 },
 "nbformat": 4,
 "nbformat_minor": 5
}
